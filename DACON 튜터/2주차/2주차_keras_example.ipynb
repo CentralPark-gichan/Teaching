{
  "nbformat": 4,
  "nbformat_minor": 0,
  "metadata": {
    "colab": {
      "name": "2주차_keras_example.ipynb",
      "provenance": [],
      "collapsed_sections": [],
      "machine_shape": "hm"
    },
    "kernelspec": {
      "name": "python3",
      "display_name": "Python 3"
    },
    "accelerator": "GPU"
  },
  "cells": [
    {
      "cell_type": "code",
      "metadata": {
        "id": "SuX2ifs99U3R"
      },
      "source": [
        "import numpy as np\n",
        "from keras.models import Sequential\n",
        "from keras.layers import Dense, Activation, Dropout\n",
        "from keras.layers import Conv2D, MaxPooling2D, Flatten\n",
        "from keras.utils import to_categorical, plot_model\n",
        "from keras.datasets import mnist"
      ],
      "execution_count": null,
      "outputs": []
    },
    {
      "cell_type": "code",
      "metadata": {
        "id": "JEBE5rjBzjyR",
        "outputId": "77347358-1618-433d-fa9d-3aec8c8ecf9e",
        "colab": {
          "base_uri": "https://localhost:8080/"
        }
      },
      "source": [
        "(x_train,y_train),(x_test,y_test)=mnist.load_data()"
      ],
      "execution_count": null,
      "outputs": [
        {
          "output_type": "stream",
          "text": [
            "Downloading data from https://storage.googleapis.com/tensorflow/tf-keras-datasets/mnist.npz\n",
            "11493376/11490434 [==============================] - 0s 0us/step\n"
          ],
          "name": "stdout"
        }
      ]
    },
    {
      "cell_type": "code",
      "metadata": {
        "id": "aQsp5VoczqZ8",
        "outputId": "dcfbf19f-3580-4ac8-8977-59d2ea7980ba",
        "colab": {
          "base_uri": "https://localhost:8080/"
        }
      },
      "source": [
        "x_train"
      ],
      "execution_count": null,
      "outputs": [
        {
          "output_type": "execute_result",
          "data": {
            "text/plain": [
              "array([[[0, 0, 0, ..., 0, 0, 0],\n",
              "        [0, 0, 0, ..., 0, 0, 0],\n",
              "        [0, 0, 0, ..., 0, 0, 0],\n",
              "        ...,\n",
              "        [0, 0, 0, ..., 0, 0, 0],\n",
              "        [0, 0, 0, ..., 0, 0, 0],\n",
              "        [0, 0, 0, ..., 0, 0, 0]],\n",
              "\n",
              "       [[0, 0, 0, ..., 0, 0, 0],\n",
              "        [0, 0, 0, ..., 0, 0, 0],\n",
              "        [0, 0, 0, ..., 0, 0, 0],\n",
              "        ...,\n",
              "        [0, 0, 0, ..., 0, 0, 0],\n",
              "        [0, 0, 0, ..., 0, 0, 0],\n",
              "        [0, 0, 0, ..., 0, 0, 0]],\n",
              "\n",
              "       [[0, 0, 0, ..., 0, 0, 0],\n",
              "        [0, 0, 0, ..., 0, 0, 0],\n",
              "        [0, 0, 0, ..., 0, 0, 0],\n",
              "        ...,\n",
              "        [0, 0, 0, ..., 0, 0, 0],\n",
              "        [0, 0, 0, ..., 0, 0, 0],\n",
              "        [0, 0, 0, ..., 0, 0, 0]],\n",
              "\n",
              "       ...,\n",
              "\n",
              "       [[0, 0, 0, ..., 0, 0, 0],\n",
              "        [0, 0, 0, ..., 0, 0, 0],\n",
              "        [0, 0, 0, ..., 0, 0, 0],\n",
              "        ...,\n",
              "        [0, 0, 0, ..., 0, 0, 0],\n",
              "        [0, 0, 0, ..., 0, 0, 0],\n",
              "        [0, 0, 0, ..., 0, 0, 0]],\n",
              "\n",
              "       [[0, 0, 0, ..., 0, 0, 0],\n",
              "        [0, 0, 0, ..., 0, 0, 0],\n",
              "        [0, 0, 0, ..., 0, 0, 0],\n",
              "        ...,\n",
              "        [0, 0, 0, ..., 0, 0, 0],\n",
              "        [0, 0, 0, ..., 0, 0, 0],\n",
              "        [0, 0, 0, ..., 0, 0, 0]],\n",
              "\n",
              "       [[0, 0, 0, ..., 0, 0, 0],\n",
              "        [0, 0, 0, ..., 0, 0, 0],\n",
              "        [0, 0, 0, ..., 0, 0, 0],\n",
              "        ...,\n",
              "        [0, 0, 0, ..., 0, 0, 0],\n",
              "        [0, 0, 0, ..., 0, 0, 0],\n",
              "        [0, 0, 0, ..., 0, 0, 0]]], dtype=uint8)"
            ]
          },
          "metadata": {
            "tags": []
          },
          "execution_count": 3
        }
      ]
    },
    {
      "cell_type": "code",
      "metadata": {
        "id": "SXjLSo9Lz-Sc",
        "outputId": "39405cf7-b46c-42fc-e866-4edb85687455",
        "colab": {
          "base_uri": "https://localhost:8080/"
        }
      },
      "source": [
        "x_test"
      ],
      "execution_count": null,
      "outputs": [
        {
          "output_type": "execute_result",
          "data": {
            "text/plain": [
              "array([[[0, 0, 0, ..., 0, 0, 0],\n",
              "        [0, 0, 0, ..., 0, 0, 0],\n",
              "        [0, 0, 0, ..., 0, 0, 0],\n",
              "        ...,\n",
              "        [0, 0, 0, ..., 0, 0, 0],\n",
              "        [0, 0, 0, ..., 0, 0, 0],\n",
              "        [0, 0, 0, ..., 0, 0, 0]],\n",
              "\n",
              "       [[0, 0, 0, ..., 0, 0, 0],\n",
              "        [0, 0, 0, ..., 0, 0, 0],\n",
              "        [0, 0, 0, ..., 0, 0, 0],\n",
              "        ...,\n",
              "        [0, 0, 0, ..., 0, 0, 0],\n",
              "        [0, 0, 0, ..., 0, 0, 0],\n",
              "        [0, 0, 0, ..., 0, 0, 0]],\n",
              "\n",
              "       [[0, 0, 0, ..., 0, 0, 0],\n",
              "        [0, 0, 0, ..., 0, 0, 0],\n",
              "        [0, 0, 0, ..., 0, 0, 0],\n",
              "        ...,\n",
              "        [0, 0, 0, ..., 0, 0, 0],\n",
              "        [0, 0, 0, ..., 0, 0, 0],\n",
              "        [0, 0, 0, ..., 0, 0, 0]],\n",
              "\n",
              "       ...,\n",
              "\n",
              "       [[0, 0, 0, ..., 0, 0, 0],\n",
              "        [0, 0, 0, ..., 0, 0, 0],\n",
              "        [0, 0, 0, ..., 0, 0, 0],\n",
              "        ...,\n",
              "        [0, 0, 0, ..., 0, 0, 0],\n",
              "        [0, 0, 0, ..., 0, 0, 0],\n",
              "        [0, 0, 0, ..., 0, 0, 0]],\n",
              "\n",
              "       [[0, 0, 0, ..., 0, 0, 0],\n",
              "        [0, 0, 0, ..., 0, 0, 0],\n",
              "        [0, 0, 0, ..., 0, 0, 0],\n",
              "        ...,\n",
              "        [0, 0, 0, ..., 0, 0, 0],\n",
              "        [0, 0, 0, ..., 0, 0, 0],\n",
              "        [0, 0, 0, ..., 0, 0, 0]],\n",
              "\n",
              "       [[0, 0, 0, ..., 0, 0, 0],\n",
              "        [0, 0, 0, ..., 0, 0, 0],\n",
              "        [0, 0, 0, ..., 0, 0, 0],\n",
              "        ...,\n",
              "        [0, 0, 0, ..., 0, 0, 0],\n",
              "        [0, 0, 0, ..., 0, 0, 0],\n",
              "        [0, 0, 0, ..., 0, 0, 0]]], dtype=uint8)"
            ]
          },
          "metadata": {
            "tags": []
          },
          "execution_count": 4
        }
      ]
    },
    {
      "cell_type": "code",
      "metadata": {
        "id": "uRhBd0dWz_cw"
      },
      "source": [
        "num_labels=len(np.unique(y_train))\n",
        "y_train=to_categorical(y_train)\n",
        "y_test=to_categorical(y_test)"
      ],
      "execution_count": null,
      "outputs": []
    },
    {
      "cell_type": "code",
      "metadata": {
        "id": "u9h-p4eu0IlA"
      },
      "source": [
        "shape1=x_train.shape[1]\n",
        "shape2=x_train.shape[2]\n",
        "x_train=x_train.reshape(-1, shape1,shape2,1).astype('float32')\n",
        "x_test=x_test.reshape(-1, shape1,shape2,1).astype('float32')\n",
        "x_train=x_train/255.\n",
        "x_test=x_test/255."
      ],
      "execution_count": null,
      "outputs": []
    },
    {
      "cell_type": "code",
      "metadata": {
        "id": "AdPfSdN60Ezo"
      },
      "source": [
        "input_shape=(shape1,shape2,1)\n",
        "batch_size=64\n",
        "kernel_size=3\n",
        "pool_size=2\n",
        "filters=64\n",
        "dropout=0.3"
      ],
      "execution_count": null,
      "outputs": []
    },
    {
      "cell_type": "code",
      "metadata": {
        "id": "8Hd7vJvH0LJz",
        "outputId": "a41d5523-da47-44a1-fde7-ca40f5519f87",
        "colab": {
          "base_uri": "https://localhost:8080/"
        }
      },
      "source": [
        "model=Sequential()\n",
        "model.add(Conv2D(filters=filters,kernel_size=kernel_size,activation='relu',input_shape=input_shape))\n",
        "model.add(MaxPooling2D(pool_size))\n",
        "model.add(Conv2D(filters=filters,kernel_size=kernel_size,activation='relu'))\n",
        "model.add(MaxPooling2D(pool_size))\n",
        "model.add(Conv2D(filters=filters,kernel_size=kernel_size,activation='relu'))\n",
        "model.add(Flatten())\n",
        "model.add(Dropout(dropout))\n",
        "model.add(Dense(num_labels, activation='softmax'))\n",
        "model.summary()"
      ],
      "execution_count": null,
      "outputs": [
        {
          "output_type": "stream",
          "text": [
            "Model: \"sequential\"\n",
            "_________________________________________________________________\n",
            "Layer (type)                 Output Shape              Param #   \n",
            "=================================================================\n",
            "conv2d (Conv2D)              (None, 26, 26, 64)        640       \n",
            "_________________________________________________________________\n",
            "max_pooling2d (MaxPooling2D) (None, 13, 13, 64)        0         \n",
            "_________________________________________________________________\n",
            "conv2d_1 (Conv2D)            (None, 11, 11, 64)        36928     \n",
            "_________________________________________________________________\n",
            "max_pooling2d_1 (MaxPooling2 (None, 5, 5, 64)          0         \n",
            "_________________________________________________________________\n",
            "conv2d_2 (Conv2D)            (None, 3, 3, 64)          36928     \n",
            "_________________________________________________________________\n",
            "flatten (Flatten)            (None, 576)               0         \n",
            "_________________________________________________________________\n",
            "dropout (Dropout)            (None, 576)               0         \n",
            "_________________________________________________________________\n",
            "dense (Dense)                (None, 10)                5770      \n",
            "=================================================================\n",
            "Total params: 80,266\n",
            "Trainable params: 80,266\n",
            "Non-trainable params: 0\n",
            "_________________________________________________________________\n"
          ],
          "name": "stdout"
        }
      ]
    },
    {
      "cell_type": "code",
      "metadata": {
        "id": "d_YajOpF0PQa",
        "outputId": "59f5ae60-a7d6-4aa8-c168-0ce016c2a2a4",
        "colab": {
          "base_uri": "https://localhost:8080/",
          "height": 976
        }
      },
      "source": [
        "plot_model(model,show_shapes=True)"
      ],
      "execution_count": null,
      "outputs": [
        {
          "output_type": "execute_result",
          "data": {
            "image/png": "[encoded data removed]",
            "text/plain": [
              "<IPython.core.display.Image object>"
            ]
          },
          "metadata": {
            "tags": []
          },
          "execution_count": 11
        }
      ]
    },
    {
      "cell_type": "code",
      "metadata": {
        "id": "8CRQAk1w0UVv",
        "outputId": "4c32b1a8-d3a2-40a2-d9dc-26c6a970ce1c",
        "colab": {
          "base_uri": "https://localhost:8080/"
        }
      },
      "source": [
        "model.compile(loss='categorical_crossentropy',optimizer='adam', metrics=['accuracy'])\n",
        "model.fit(x_train,y_train,epochs=30,batch_size=64)\n",
        "results=model.evaluate(x_test,y_test)\n",
        "print(results)"
      ],
      "execution_count": null,
      "outputs": [
        {
          "output_type": "stream",
          "text": [
            "Epoch 1/30\n",
            "938/938 [==============================] - 3s 4ms/step - loss: 0.2081 - accuracy: 0.9356\n",
            "Epoch 2/30\n",
            "938/938 [==============================] - 3s 4ms/step - loss: 0.0641 - accuracy: 0.9808\n",
            "Epoch 3/30\n",
            "938/938 [==============================] - 3s 4ms/step - loss: 0.0450 - accuracy: 0.9860\n",
            "Epoch 4/30\n",
            "938/938 [==============================] - 3s 4ms/step - loss: 0.0385 - accuracy: 0.9878\n",
            "Epoch 5/30\n",
            "938/938 [==============================] - 3s 4ms/step - loss: 0.0301 - accuracy: 0.9907\n",
            "Epoch 6/30\n",
            "938/938 [==============================] - 3s 4ms/step - loss: 0.0258 - accuracy: 0.9919\n",
            "Epoch 7/30\n",
            "938/938 [==============================] - 3s 4ms/step - loss: 0.0235 - accuracy: 0.9923\n",
            "Epoch 8/30\n",
            "938/938 [==============================] - 3s 4ms/step - loss: 0.0203 - accuracy: 0.9934\n",
            "Epoch 9/30\n",
            "938/938 [==============================] - 3s 4ms/step - loss: 0.0175 - accuracy: 0.9943\n",
            "Epoch 10/30\n",
            "938/938 [==============================] - 3s 4ms/step - loss: 0.0153 - accuracy: 0.9951\n",
            "Epoch 11/30\n",
            "938/938 [==============================] - 3s 4ms/step - loss: 0.0146 - accuracy: 0.9952\n",
            "Epoch 12/30\n",
            "938/938 [==============================] - 3s 4ms/step - loss: 0.0126 - accuracy: 0.9956\n",
            "Epoch 13/30\n",
            "938/938 [==============================] - 3s 4ms/step - loss: 0.0118 - accuracy: 0.9958\n",
            "Epoch 14/30\n",
            "938/938 [==============================] - 3s 4ms/step - loss: 0.0110 - accuracy: 0.9963\n",
            "Epoch 15/30\n",
            "938/938 [==============================] - 3s 4ms/step - loss: 0.0111 - accuracy: 0.9963\n",
            "Epoch 16/30\n",
            "938/938 [==============================] - 3s 4ms/step - loss: 0.0089 - accuracy: 0.9969\n",
            "Epoch 17/30\n",
            "938/938 [==============================] - 3s 4ms/step - loss: 0.0106 - accuracy: 0.9964\n",
            "Epoch 18/30\n",
            "938/938 [==============================] - 3s 4ms/step - loss: 0.0078 - accuracy: 0.9973\n",
            "Epoch 19/30\n",
            "938/938 [==============================] - 3s 4ms/step - loss: 0.0084 - accuracy: 0.9974\n",
            "Epoch 20/30\n",
            "938/938 [==============================] - 3s 4ms/step - loss: 0.0088 - accuracy: 0.9971\n",
            "Epoch 21/30\n",
            "938/938 [==============================] - 3s 4ms/step - loss: 0.0079 - accuracy: 0.9973\n",
            "Epoch 22/30\n",
            "938/938 [==============================] - 3s 4ms/step - loss: 0.0053 - accuracy: 0.9982\n",
            "Epoch 23/30\n",
            "938/938 [==============================] - 3s 4ms/step - loss: 0.0073 - accuracy: 0.9975\n",
            "Epoch 24/30\n",
            "938/938 [==============================] - 3s 4ms/step - loss: 0.0074 - accuracy: 0.9974\n",
            "Epoch 25/30\n",
            "938/938 [==============================] - 3s 4ms/step - loss: 0.0060 - accuracy: 0.9981\n",
            "Epoch 26/30\n",
            "938/938 [==============================] - 3s 4ms/step - loss: 0.0054 - accuracy: 0.9982\n",
            "Epoch 27/30\n",
            "938/938 [==============================] - 3s 4ms/step - loss: 0.0063 - accuracy: 0.9979\n",
            "Epoch 28/30\n",
            "938/938 [==============================] - 3s 4ms/step - loss: 0.0055 - accuracy: 0.9981\n",
            "Epoch 29/30\n",
            "938/938 [==============================] - 3s 4ms/step - loss: 0.0055 - accuracy: 0.9980\n",
            "Epoch 30/30\n",
            "938/938 [==============================] - 3s 4ms/step - loss: 0.0052 - accuracy: 0.9983\n",
            "313/313 [==============================] - 1s 2ms/step - loss: 0.0232 - accuracy: 0.9946\n",
            "[0.023192571476101875, 0.9945999979972839]\n"
          ],
          "name": "stdout"
        }
      ]
    },
    {
      "cell_type": "code",
      "metadata": {
        "id": "G4Wyx5CZ0ddG"
      },
      "source": [
        ""
      ],
      "execution_count": null,
      "outputs": []
    },
    {
      "cell_type": "markdown",
      "metadata": {
        "id": "z11pAj8Q0eL_"
      },
      "source": [
        "API 버전"
      ]
    },
    {
      "cell_type": "code",
      "metadata": {
        "id": "wj3YJ0sV0fHp",
        "outputId": "132a6f49-4911-418b-ad85-d7511df685b9",
        "colab": {
          "base_uri": "https://localhost:8080/"
        }
      },
      "source": [
        "import numpy as np\n",
        "from keras.layers import Dense, Dropout, Input\n",
        "from keras.models import Model\n",
        "\n",
        "x=Input(shape=input_shape)\n",
        "h=Conv2D(filters=filters,kernel_size=kernel_size,activation='relu')(x)\n",
        "h=MaxPooling2D()(h) #maxpooling2D의 default는 (2,2)임\n",
        "h=Conv2D(filters=filters,kernel_size=kernel_size,activation='relu')(h)\n",
        "h=MaxPooling2D()(h) #maxpooling2D의 default는 (2,2)임\n",
        "h=Conv2D(filters=filters,kernel_size=kernel_size,activation='relu')(h)\n",
        "h=Flatten()(h)\n",
        "h=Dropout(dropout)(h)\n",
        "out=Dense(num_labels,activation='softmax')(h)\n",
        "\n",
        "\n",
        "model=Model(inputs=x,outputs=out)\n",
        "model.summary()\n",
        "model.compile(loss='categorical_crossentropy',optimizer='adam', metrics=['accuracy'])\n",
        "model.fit(x_train,y_train,epochs=30,batch_size=64)\n",
        "score=model.evaluate(x_test,y_test)\n",
        "print(score)"
      ],
      "execution_count": null,
      "outputs": [
        {
          "output_type": "stream",
          "text": [
            "Model: \"functional_1\"\n",
            "_________________________________________________________________\n",
            "Layer (type)                 Output Shape              Param #   \n",
            "=================================================================\n",
            "input_1 (InputLayer)         [(None, 28, 28, 1)]       0         \n",
            "_________________________________________________________________\n",
            "conv2d_3 (Conv2D)            (None, 26, 26, 64)        640       \n",
            "_________________________________________________________________\n",
            "max_pooling2d_2 (MaxPooling2 (None, 13, 13, 64)        0         \n",
            "_________________________________________________________________\n",
            "conv2d_4 (Conv2D)            (None, 11, 11, 64)        36928     \n",
            "_________________________________________________________________\n",
            "max_pooling2d_3 (MaxPooling2 (None, 5, 5, 64)          0         \n",
            "_________________________________________________________________\n",
            "conv2d_5 (Conv2D)            (None, 3, 3, 64)          36928     \n",
            "_________________________________________________________________\n",
            "flatten_1 (Flatten)          (None, 576)               0         \n",
            "_________________________________________________________________\n",
            "dropout_1 (Dropout)          (None, 576)               0         \n",
            "_________________________________________________________________\n",
            "dense_1 (Dense)              (None, 10)                5770      \n",
            "=================================================================\n",
            "Total params: 80,266\n",
            "Trainable params: 80,266\n",
            "Non-trainable params: 0\n",
            "_________________________________________________________________\n",
            "Epoch 1/30\n",
            "938/938 [==============================] - 3s 4ms/step - loss: 0.2069 - accuracy: 0.9366\n",
            "Epoch 2/30\n",
            "938/938 [==============================] - 3s 4ms/step - loss: 0.0621 - accuracy: 0.9801\n",
            "Epoch 3/30\n",
            "938/938 [==============================] - 3s 4ms/step - loss: 0.0451 - accuracy: 0.9866\n",
            "Epoch 4/30\n",
            "938/938 [==============================] - 3s 4ms/step - loss: 0.0376 - accuracy: 0.9883\n",
            "Epoch 5/30\n",
            "938/938 [==============================] - 3s 4ms/step - loss: 0.0314 - accuracy: 0.9899\n",
            "Epoch 6/30\n",
            "938/938 [==============================] - 3s 4ms/step - loss: 0.0271 - accuracy: 0.9915\n",
            "Epoch 7/30\n",
            "938/938 [==============================] - 3s 4ms/step - loss: 0.0237 - accuracy: 0.9923\n",
            "Epoch 8/30\n",
            "938/938 [==============================] - 3s 4ms/step - loss: 0.0197 - accuracy: 0.9936\n",
            "Epoch 9/30\n",
            "938/938 [==============================] - 3s 4ms/step - loss: 0.0180 - accuracy: 0.9945\n",
            "Epoch 10/30\n",
            "938/938 [==============================] - 3s 4ms/step - loss: 0.0164 - accuracy: 0.9948\n",
            "Epoch 11/30\n",
            "938/938 [==============================] - 3s 4ms/step - loss: 0.0147 - accuracy: 0.9951\n",
            "Epoch 12/30\n",
            "938/938 [==============================] - 3s 4ms/step - loss: 0.0139 - accuracy: 0.9953\n",
            "Epoch 13/30\n",
            "938/938 [==============================] - 3s 4ms/step - loss: 0.0123 - accuracy: 0.9961\n",
            "Epoch 14/30\n",
            "938/938 [==============================] - 3s 4ms/step - loss: 0.0116 - accuracy: 0.9958\n",
            "Epoch 15/30\n",
            "938/938 [==============================] - 3s 4ms/step - loss: 0.0112 - accuracy: 0.9962\n",
            "Epoch 16/30\n",
            "938/938 [==============================] - 3s 4ms/step - loss: 0.0097 - accuracy: 0.9967\n",
            "Epoch 17/30\n",
            "938/938 [==============================] - 3s 4ms/step - loss: 0.0087 - accuracy: 0.9969\n",
            "Epoch 18/30\n",
            "938/938 [==============================] - 3s 4ms/step - loss: 0.0085 - accuracy: 0.9972\n",
            "Epoch 19/30\n",
            "938/938 [==============================] - 3s 4ms/step - loss: 0.0083 - accuracy: 0.9971\n",
            "Epoch 20/30\n",
            "938/938 [==============================] - 3s 4ms/step - loss: 0.0091 - accuracy: 0.9966\n",
            "Epoch 21/30\n",
            "938/938 [==============================] - 3s 4ms/step - loss: 0.0060 - accuracy: 0.9980\n",
            "Epoch 22/30\n",
            "938/938 [==============================] - 3s 4ms/step - loss: 0.0081 - accuracy: 0.9972\n",
            "Epoch 23/30\n",
            "938/938 [==============================] - 3s 4ms/step - loss: 0.0080 - accuracy: 0.9970\n",
            "Epoch 24/30\n",
            "938/938 [==============================] - 3s 4ms/step - loss: 0.0064 - accuracy: 0.9977\n",
            "Epoch 25/30\n",
            "938/938 [==============================] - 3s 4ms/step - loss: 0.0059 - accuracy: 0.9977\n",
            "Epoch 26/30\n",
            "938/938 [==============================] - 3s 4ms/step - loss: 0.0062 - accuracy: 0.9979\n",
            "Epoch 27/30\n",
            "938/938 [==============================] - 3s 4ms/step - loss: 0.0058 - accuracy: 0.9979\n",
            "Epoch 28/30\n",
            "938/938 [==============================] - 3s 4ms/step - loss: 0.0055 - accuracy: 0.9983\n",
            "Epoch 29/30\n",
            "938/938 [==============================] - 3s 4ms/step - loss: 0.0061 - accuracy: 0.9980\n",
            "Epoch 30/30\n",
            "938/938 [==============================] - 3s 4ms/step - loss: 0.0051 - accuracy: 0.9982\n",
            "313/313 [==============================] - 1s 2ms/step - loss: 0.0367 - accuracy: 0.9926\n",
            "[0.036684636026620865, 0.9926000237464905]\n"
          ],
          "name": "stdout"
        }
      ]
    }
  ]
}